{
 "cells": [
  {
   "cell_type": "markdown",
   "id": "c00b3e04-e85d-41a7-922a-cb208e139d60",
   "metadata": {
    "tags": []
   },
   "source": [
    "# Árbol de decisión para encuesta Reddit Chile"
   ]
  },
  {
   "cell_type": "markdown",
   "id": "dae66461-8a4b-4118-b95e-8f32e6f619c1",
   "metadata": {
    "tags": []
   },
   "source": [
    "## Conexión a fuente de datos"
   ]
  },
  {
   "cell_type": "code",
   "execution_count": 1,
   "id": "c88392e6-a842-4ab5-9724-e5bc93c87196",
   "metadata": {},
   "outputs": [],
   "source": [
    "import numpy as np\n",
    "import pandas as pd"
   ]
  },
  {
   "cell_type": "code",
   "execution_count": 2,
   "id": "f5d20bdd-2bd9-42ac-9ade-9aeb5d5d616b",
   "metadata": {
    "tags": []
   },
   "outputs": [],
   "source": [
    "df = pd.read_pickle(\"data/df_encuesta.pkl\")"
   ]
  },
  {
   "cell_type": "code",
   "execution_count": 3,
   "id": "d087b7ad-e425-4448-ad90-7c8d4c22905f",
   "metadata": {},
   "outputs": [
    {
     "name": "stdout",
     "output_type": "stream",
     "text": [
      "<class 'pandas.core.frame.DataFrame'>\n",
      "Int64Index: 1170 entries, 0 to 1181\n",
      "Data columns (total 47 columns):\n",
      " #   Column                     Non-Null Count  Dtype\n",
      "---  ------                     --------------  -----\n",
      " 0   edad                       1170 non-null   int32\n",
      " 1   religion                   1170 non-null   int8 \n",
      " 2   sexo_Hombre                1170 non-null   uint8\n",
      " 3   sexo_Mujer                 1170 non-null   uint8\n",
      " 4   orientacion_Bisexual       1170 non-null   uint8\n",
      " 5   orientacion_Heterosexual   1170 non-null   uint8\n",
      " 6   orientacion_Homosexual     1170 non-null   uint8\n",
      " 7   ocupacion_Estudio          1170 non-null   uint8\n",
      " 8   ocupacion_Ninguna          1170 non-null   uint8\n",
      " 9   ocupacion_Trabajo          1170 non-null   uint8\n",
      " 10  ocupacion_Trabajo;Estudio  1170 non-null   uint8\n",
      " 11  region_I                   1170 non-null   uint8\n",
      " 12  region_II                  1170 non-null   uint8\n",
      " 13  region_III                 1170 non-null   uint8\n",
      " 14  region_IV                  1170 non-null   uint8\n",
      " 15  region_IX                  1170 non-null   uint8\n",
      " 16  region_RM                  1170 non-null   uint8\n",
      " 17  region_V                   1170 non-null   uint8\n",
      " 18  region_VI                  1170 non-null   uint8\n",
      " 19  region_VII                 1170 non-null   uint8\n",
      " 20  region_VIII                1170 non-null   uint8\n",
      " 21  region_X                   1170 non-null   uint8\n",
      " 22  region_XI                  1170 non-null   uint8\n",
      " 23  region_XII                 1170 non-null   uint8\n",
      " 24  region_XIV                 1170 non-null   uint8\n",
      " 25  region_XV                  1170 non-null   uint8\n",
      " 26  region_XVI                 1170 non-null   uint8\n",
      " 27  educacion_media            1170 non-null   uint8\n",
      " 28  educacion_posgrado         1170 non-null   uint8\n",
      " 29  educacion_superior         1170 non-null   uint8\n",
      " 30  politica_izquierda         1170 non-null   uint8\n",
      " 31  musica_Metal               1170 non-null   uint8\n",
      " 32  musica_Pop                 1170 non-null   uint8\n",
      " 33  musica_Rap                 1170 non-null   uint8\n",
      " 34  musica_Rock                1170 non-null   uint8\n",
      " 35  deporte_1hora              1170 non-null   uint8\n",
      " 36  deporte_2horas             1170 non-null   uint8\n",
      " 37  deporte_4horas             1170 non-null   uint8\n",
      " 38  perro_agua                 1170 non-null   uint8\n",
      " 39  perro_atom_humber          1170 non-null   uint8\n",
      " 40  perro_bus                  1170 non-null   uint8\n",
      " 41  perro_chilaquil            1170 non-null   uint8\n",
      " 42  perro_ladron               1170 non-null   uint8\n",
      " 43  perro_lipigas              1170 non-null   uint8\n",
      " 44  perro_matapacos            1170 non-null   uint8\n",
      " 45  perro_washington           1170 non-null   uint8\n",
      " 46  perro_waton                1170 non-null   uint8\n",
      "dtypes: int32(1), int8(1), uint8(45)\n",
      "memory usage: 66.3 KB\n"
     ]
    }
   ],
   "source": [
    "df.info()"
   ]
  },
  {
   "cell_type": "markdown",
   "id": "f9bf272f-7fa9-440b-9b3d-18499dcdc526",
   "metadata": {},
   "source": [
    "# Selección de variables predictoras y de respuesta."
   ]
  },
  {
   "cell_type": "code",
   "execution_count": 4,
   "id": "1c36a924-f532-49eb-9199-5f19284422d5",
   "metadata": {},
   "outputs": [],
   "source": [
    "X = df.loc[:, ~df.columns.isin(['politica_izquierda'])]\n",
    "y = df['politica_izquierda']"
   ]
  },
  {
   "cell_type": "markdown",
   "id": "07779bcd-3204-4103-9ca0-f99822caaa1d",
   "metadata": {},
   "source": [
    "# Generación data de entrenamiento y testeo más balanceo"
   ]
  },
  {
   "cell_type": "code",
   "execution_count": 5,
   "id": "3ee2e281-a6b2-4d63-8df0-159256d6f160",
   "metadata": {},
   "outputs": [],
   "source": [
    "# creamos ahora muestras de entrenamiento y prueba seleccionadas aleatoriamente:\n",
    "from sklearn.model_selection import train_test_split\n",
    "\n",
    "X_train, X_test, y_train, y_test = train_test_split(X, y, test_size=0.20, \n",
    "                                                    random_state = 42)"
   ]
  },
  {
   "cell_type": "code",
   "execution_count": 6,
   "id": "1ed4abdb-f49e-446a-9203-710acb802dbe",
   "metadata": {},
   "outputs": [
    {
     "data": {
      "text/plain": [
       "1    517\n",
       "0    419\n",
       "Name: politica_izquierda, dtype: int64"
      ]
     },
     "execution_count": 6,
     "metadata": {},
     "output_type": "execute_result"
    }
   ],
   "source": [
    "# datos de entrenamiento antes de balance \n",
    "y_train.value_counts()"
   ]
  },
  {
   "cell_type": "code",
   "execution_count": 7,
   "id": "402be3e5-f7b2-4f5e-8a09-00f236fb5336",
   "metadata": {},
   "outputs": [],
   "source": [
    "# balaceo con sobremuestro\n",
    "y_train_Q = y_train[y_train == 1]\n",
    "y_train_NQ = y_train[y_train == 0]\n",
    "y_train_NQ = y_train_NQ.sample(len(y_train_Q), replace = True, \n",
    "                               random_state = 42)\n",
    "y_train = pd.concat([y_train_Q, y_train_NQ], axis=0)\n",
    "X_train = X_train.loc[y_train.index,:]\n",
    "\n",
    "del [y_train_Q, y_train_NQ]"
   ]
  },
  {
   "cell_type": "code",
   "execution_count": 8,
   "id": "88e7af8f-1425-4a65-902f-c3b9f0adc373",
   "metadata": {},
   "outputs": [
    {
     "data": {
      "text/plain": [
       "1    517\n",
       "0    517\n",
       "Name: politica_izquierda, dtype: int64"
      ]
     },
     "execution_count": 8,
     "metadata": {},
     "output_type": "execute_result"
    }
   ],
   "source": [
    "# datos de entrenamiento despueés de balanceo\n",
    "y_train.value_counts()"
   ]
  },
  {
   "cell_type": "markdown",
   "id": "585c0976-cba5-41a2-8470-d01393a3bcd3",
   "metadata": {},
   "source": [
    "# Cross-Validation y Grid-Search"
   ]
  },
  {
   "cell_type": "code",
   "execution_count": 9,
   "id": "06b893fc-51a3-4277-8646-d60f769c7926",
   "metadata": {},
   "outputs": [
    {
     "data": {
      "text/plain": [
       "12"
      ]
     },
     "execution_count": 9,
     "metadata": {},
     "output_type": "execute_result"
    }
   ],
   "source": [
    "import multiprocessing\n",
    "\n",
    "cores = multiprocessing.cpu_count()\n",
    "cores"
   ]
  },
  {
   "cell_type": "markdown",
   "id": "0835c8eb-87f5-4fe9-9ccd-b132a2fc1351",
   "metadata": {},
   "source": [
    "## Cross-Validation"
   ]
  },
  {
   "cell_type": "code",
   "execution_count": 10,
   "id": "99a98dbd-2ca2-43b9-be97-d3d58e23d7a7",
   "metadata": {},
   "outputs": [
    {
     "data": {
      "text/plain": [
       "{'fit_time': array([0.00698137, 0.00797892, 0.00698137, 0.00598359, 0.0069809 ]),\n",
       " 'score_time': array([0.00199461, 0.00099707, 0.00199485, 0.00199509, 0.00099683]),\n",
       " 'test_score': array([0.52991453, 0.54273504, 0.61965812, 0.54700855, 0.57264957]),\n",
       " 'train_score': array([0.99465812, 0.99465812, 0.99465812, 0.9957265 , 0.99465812])}"
      ]
     },
     "execution_count": 10,
     "metadata": {},
     "output_type": "execute_result"
    }
   ],
   "source": [
    "from sklearn.model_selection import cross_validate\n",
    "from sklearn.tree import DecisionTreeClassifier\n",
    "\n",
    "# modelo logístico base\n",
    "tree_cv = DecisionTreeClassifier(random_state = 42)\n",
    "tree_cv = tree_cv.fit(X, y)\n",
    "# Validación cruzada\n",
    "cv = cross_validate(tree_cv,\n",
    "                    X,\n",
    "                    y,\n",
    "                    cv = 5,\n",
    "                    n_jobs = cores,\n",
    "                    return_train_score = True)\n",
    "cv"
   ]
  },
  {
   "cell_type": "markdown",
   "id": "95d1601a-e9b4-4904-8acd-520a05f2f6f7",
   "metadata": {},
   "source": [
    "## Grid-Search"
   ]
  },
  {
   "cell_type": "code",
   "execution_count": 11,
   "id": "2134a280-110c-43f0-a4fd-cc57b2ca95ea",
   "metadata": {},
   "outputs": [
    {
     "name": "stdout",
     "output_type": "stream",
     "text": [
      "Fitting 5 folds for each of 11520 candidates, totalling 57600 fits\n",
      "54.614418268203735\n"
     ]
    }
   ],
   "source": [
    "from sklearn.model_selection import GridSearchCV\n",
    "import time\n",
    "\n",
    "start = time.time()\n",
    "\n",
    "param_grid = {'max_features': ['sqrt', 'log2', None],\n",
    "              'ccp_alpha': [0.1, .01, .001],\n",
    "              'max_depth' : [2, 3, 4, 5, 6, 7, 8, 9, 10, None],\n",
    "              'criterion' :['gini', 'entropy'],\n",
    "              'min_samples_split' : [0.01, 0.025, 0.05, 0.1, 0.2, 0.3, 0.4, \n",
    "                                     0.5],\n",
    "              'min_samples_leaf' : [0.01, 0.025, 0.05, 0.1, 0.2, 0.3, 0.4, 0.5]\n",
    "             }\n",
    "tree_clas = DecisionTreeClassifier(random_state = 42)\n",
    "\n",
    "grid_search = GridSearchCV(estimator = tree_clas, \n",
    "                           param_grid = param_grid,\n",
    "                           cv = 5, \n",
    "                           verbose = True, \n",
    "                           n_jobs = cores)\n",
    "\n",
    "grid_search.fit(X_train, y_train)\n",
    "\n",
    "end = time.time()\n",
    "print(end - start)"
   ]
  },
  {
   "cell_type": "code",
   "execution_count": 12,
   "id": "d2c0a2b2-3520-44bd-8cf6-95e8fefebcae",
   "metadata": {},
   "outputs": [
    {
     "data": {
      "text/html": [
       "<style>#sk-container-id-1 {color: black;background-color: white;}#sk-container-id-1 pre{padding: 0;}#sk-container-id-1 div.sk-toggleable {background-color: white;}#sk-container-id-1 label.sk-toggleable__label {cursor: pointer;display: block;width: 100%;margin-bottom: 0;padding: 0.3em;box-sizing: border-box;text-align: center;}#sk-container-id-1 label.sk-toggleable__label-arrow:before {content: \"▸\";float: left;margin-right: 0.25em;color: #696969;}#sk-container-id-1 label.sk-toggleable__label-arrow:hover:before {color: black;}#sk-container-id-1 div.sk-estimator:hover label.sk-toggleable__label-arrow:before {color: black;}#sk-container-id-1 div.sk-toggleable__content {max-height: 0;max-width: 0;overflow: hidden;text-align: left;background-color: #f0f8ff;}#sk-container-id-1 div.sk-toggleable__content pre {margin: 0.2em;color: black;border-radius: 0.25em;background-color: #f0f8ff;}#sk-container-id-1 input.sk-toggleable__control:checked~div.sk-toggleable__content {max-height: 200px;max-width: 100%;overflow: auto;}#sk-container-id-1 input.sk-toggleable__control:checked~label.sk-toggleable__label-arrow:before {content: \"▾\";}#sk-container-id-1 div.sk-estimator input.sk-toggleable__control:checked~label.sk-toggleable__label {background-color: #d4ebff;}#sk-container-id-1 div.sk-label input.sk-toggleable__control:checked~label.sk-toggleable__label {background-color: #d4ebff;}#sk-container-id-1 input.sk-hidden--visually {border: 0;clip: rect(1px 1px 1px 1px);clip: rect(1px, 1px, 1px, 1px);height: 1px;margin: -1px;overflow: hidden;padding: 0;position: absolute;width: 1px;}#sk-container-id-1 div.sk-estimator {font-family: monospace;background-color: #f0f8ff;border: 1px dotted black;border-radius: 0.25em;box-sizing: border-box;margin-bottom: 0.5em;}#sk-container-id-1 div.sk-estimator:hover {background-color: #d4ebff;}#sk-container-id-1 div.sk-parallel-item::after {content: \"\";width: 100%;border-bottom: 1px solid gray;flex-grow: 1;}#sk-container-id-1 div.sk-label:hover label.sk-toggleable__label {background-color: #d4ebff;}#sk-container-id-1 div.sk-serial::before {content: \"\";position: absolute;border-left: 1px solid gray;box-sizing: border-box;top: 0;bottom: 0;left: 50%;z-index: 0;}#sk-container-id-1 div.sk-serial {display: flex;flex-direction: column;align-items: center;background-color: white;padding-right: 0.2em;padding-left: 0.2em;position: relative;}#sk-container-id-1 div.sk-item {position: relative;z-index: 1;}#sk-container-id-1 div.sk-parallel {display: flex;align-items: stretch;justify-content: center;background-color: white;position: relative;}#sk-container-id-1 div.sk-item::before, #sk-container-id-1 div.sk-parallel-item::before {content: \"\";position: absolute;border-left: 1px solid gray;box-sizing: border-box;top: 0;bottom: 0;left: 50%;z-index: -1;}#sk-container-id-1 div.sk-parallel-item {display: flex;flex-direction: column;z-index: 1;position: relative;background-color: white;}#sk-container-id-1 div.sk-parallel-item:first-child::after {align-self: flex-end;width: 50%;}#sk-container-id-1 div.sk-parallel-item:last-child::after {align-self: flex-start;width: 50%;}#sk-container-id-1 div.sk-parallel-item:only-child::after {width: 0;}#sk-container-id-1 div.sk-dashed-wrapped {border: 1px dashed gray;margin: 0 0.4em 0.5em 0.4em;box-sizing: border-box;padding-bottom: 0.4em;background-color: white;}#sk-container-id-1 div.sk-label label {font-family: monospace;font-weight: bold;display: inline-block;line-height: 1.2em;}#sk-container-id-1 div.sk-label-container {text-align: center;}#sk-container-id-1 div.sk-container {/* jupyter's `normalize.less` sets `[hidden] { display: none; }` but bootstrap.min.css set `[hidden] { display: none !important; }` so we also need the `!important` here to be able to override the default hidden behavior on the sphinx rendered scikit-learn.org. See: https://github.com/scikit-learn/scikit-learn/issues/21755 */display: inline-block !important;position: relative;}#sk-container-id-1 div.sk-text-repr-fallback {display: none;}</style><div id=\"sk-container-id-1\" class=\"sk-top-container\"><div class=\"sk-text-repr-fallback\"><pre>DecisionTreeClassifier(ccp_alpha=0.001, criterion=&#x27;entropy&#x27;, max_depth=6,\n",
       "                       max_features=&#x27;sqrt&#x27;, min_samples_leaf=0.01,\n",
       "                       min_samples_split=0.3, random_state=42)</pre><b>In a Jupyter environment, please rerun this cell to show the HTML representation or trust the notebook. <br />On GitHub, the HTML representation is unable to render, please try loading this page with nbviewer.org.</b></div><div class=\"sk-container\" hidden><div class=\"sk-item\"><div class=\"sk-estimator sk-toggleable\"><input class=\"sk-toggleable__control sk-hidden--visually\" id=\"sk-estimator-id-1\" type=\"checkbox\" checked><label for=\"sk-estimator-id-1\" class=\"sk-toggleable__label sk-toggleable__label-arrow\">DecisionTreeClassifier</label><div class=\"sk-toggleable__content\"><pre>DecisionTreeClassifier(ccp_alpha=0.001, criterion=&#x27;entropy&#x27;, max_depth=6,\n",
       "                       max_features=&#x27;sqrt&#x27;, min_samples_leaf=0.01,\n",
       "                       min_samples_split=0.3, random_state=42)</pre></div></div></div></div></div>"
      ],
      "text/plain": [
       "DecisionTreeClassifier(ccp_alpha=0.001, criterion='entropy', max_depth=6,\n",
       "                       max_features='sqrt', min_samples_leaf=0.01,\n",
       "                       min_samples_split=0.3, random_state=42)"
      ]
     },
     "execution_count": 12,
     "metadata": {},
     "output_type": "execute_result"
    }
   ],
   "source": [
    "modelo = grid_search.best_estimator_\n",
    "modelo"
   ]
  },
  {
   "cell_type": "code",
   "execution_count": 13,
   "id": "17cce52a-d654-455a-872d-122c84c0109b",
   "metadata": {},
   "outputs": [
    {
     "name": "stdout",
     "output_type": "stream",
     "text": [
      "Accuracy:\n",
      "0.6239316239316239\n"
     ]
    }
   ],
   "source": [
    "from sklearn.metrics import accuracy_score\n",
    "\n",
    "print('Accuracy:')\n",
    "print(accuracy_score(y_test, modelo.predict(X_test)))"
   ]
  },
  {
   "cell_type": "markdown",
   "id": "dcb7eb48-5fcf-4b25-8489-b5ecf078a7cf",
   "metadata": {},
   "source": [
    "# Ajuste y Gráfico árbol de decisión"
   ]
  },
  {
   "cell_type": "code",
   "execution_count": 14,
   "id": "0ce5fa9c-2e18-48f8-ba35-0841991d64cd",
   "metadata": {},
   "outputs": [
    {
     "data": {
      "image/svg+xml": [
       "<svg xmlns=\"http://www.w3.org/2000/svg\" xmlns:xlink=\"http://www.w3.org/1999/xlink\" width=\"540pt\" height=\"790pt\" viewBox=\"0.00 0.00 540.00 790.00\">\n",
       "<g id=\"graph0\" class=\"graph\" transform=\"scale(1 1) rotate(0) translate(4 786)\">\n",
       "<title>Tree</title>\n",
       "<polygon fill=\"white\" stroke=\"none\" points=\"-4,4 -4,-786 536,-786 536,4 -4,4\"/>\n",
       "<!-- 0 -->\n",
       "<g id=\"node1\" class=\"node\"><title>0</title>\n",
       "<polygon fill=\"#ffffff\" stroke=\"black\" points=\"338.5,-782 117.5,-782 117.5,-699 338.5,-699 338.5,-782\"/>\n",
       "<text text-anchor=\"middle\" x=\"228\" y=\"-766.8\" font-family=\"Helvetica,sans-Serif\" font-size=\"14.00\">orientacion_Heterosexual &lt;= 0.5</text>\n",
       "<text text-anchor=\"middle\" x=\"228\" y=\"-751.8\" font-family=\"Helvetica,sans-Serif\" font-size=\"14.00\">entropy = 1.0</text>\n",
       "<text text-anchor=\"middle\" x=\"228\" y=\"-736.8\" font-family=\"Helvetica,sans-Serif\" font-size=\"14.00\">samples = 1034</text>\n",
       "<text text-anchor=\"middle\" x=\"228\" y=\"-721.8\" font-family=\"Helvetica,sans-Serif\" font-size=\"14.00\">value = [517, 517]</text>\n",
       "<text text-anchor=\"middle\" x=\"228\" y=\"-706.8\" font-family=\"Helvetica,sans-Serif\" font-size=\"14.00\">class = No-Izquierda</text>\n",
       "</g>\n",
       "<!-- 1 -->\n",
       "<g id=\"node2\" class=\"node\"><title>1</title>\n",
       "<polygon fill=\"#aed7f4\" stroke=\"black\" points=\"214,-655.5 90,-655.5 90,-587.5 214,-587.5 214,-655.5\"/>\n",
       "<text text-anchor=\"middle\" x=\"152\" y=\"-640.3\" font-family=\"Helvetica,sans-Serif\" font-size=\"14.00\">entropy = 0.951</text>\n",
       "<text text-anchor=\"middle\" x=\"152\" y=\"-625.3\" font-family=\"Helvetica,sans-Serif\" font-size=\"14.00\">samples = 232</text>\n",
       "<text text-anchor=\"middle\" x=\"152\" y=\"-610.3\" font-family=\"Helvetica,sans-Serif\" font-size=\"14.00\">value = [86, 146]</text>\n",
       "<text text-anchor=\"middle\" x=\"152\" y=\"-595.3\" font-family=\"Helvetica,sans-Serif\" font-size=\"14.00\">class = Izquierda</text>\n",
       "</g>\n",
       "<!-- 0&#45;&gt;1 -->\n",
       "<g id=\"edge1\" class=\"edge\"><title>0-&gt;1</title>\n",
       "<path fill=\"none\" stroke=\"black\" d=\"M201.632,-698.907C194.321,-687.652 186.374,-675.418 179.026,-664.106\"/>\n",
       "<polygon fill=\"black\" stroke=\"black\" points=\"181.927,-662.146 173.544,-655.667 176.057,-665.96 181.927,-662.146\"/>\n",
       "<text text-anchor=\"middle\" x=\"168.349\" y=\"-676.421\" font-family=\"Helvetica,sans-Serif\" font-size=\"14.00\">True</text>\n",
       "</g>\n",
       "<!-- 2 -->\n",
       "<g id=\"node3\" class=\"node\"><title>2</title>\n",
       "<polygon fill=\"#fbede3\" stroke=\"black\" points=\"378,-663 232,-663 232,-580 378,-580 378,-663\"/>\n",
       "<text text-anchor=\"middle\" x=\"305\" y=\"-647.8\" font-family=\"Helvetica,sans-Serif\" font-size=\"14.00\">edad &lt;= 16.5</text>\n",
       "<text text-anchor=\"middle\" x=\"305\" y=\"-632.8\" font-family=\"Helvetica,sans-Serif\" font-size=\"14.00\">entropy = 0.996</text>\n",
       "<text text-anchor=\"middle\" x=\"305\" y=\"-617.8\" font-family=\"Helvetica,sans-Serif\" font-size=\"14.00\">samples = 802</text>\n",
       "<text text-anchor=\"middle\" x=\"305\" y=\"-602.8\" font-family=\"Helvetica,sans-Serif\" font-size=\"14.00\">value = [431, 371]</text>\n",
       "<text text-anchor=\"middle\" x=\"305\" y=\"-587.8\" font-family=\"Helvetica,sans-Serif\" font-size=\"14.00\">class = No-Izquierda</text>\n",
       "</g>\n",
       "<!-- 0&#45;&gt;2 -->\n",
       "<g id=\"edge2\" class=\"edge\"><title>0-&gt;2</title>\n",
       "<path fill=\"none\" stroke=\"black\" d=\"M254.715,-698.907C260.508,-690.105 266.695,-680.703 272.678,-671.612\"/>\n",
       "<polygon fill=\"black\" stroke=\"black\" points=\"275.759,-673.298 278.332,-663.021 269.911,-669.45 275.759,-673.298\"/>\n",
       "<text text-anchor=\"middle\" x=\"283.381\" y=\"-683.806\" font-family=\"Helvetica,sans-Serif\" font-size=\"14.00\">False</text>\n",
       "</g>\n",
       "<!-- 3 -->\n",
       "<g id=\"node4\" class=\"node\"><title>3</title>\n",
       "<polygon fill=\"#ea9b62\" stroke=\"black\" points=\"289,-536.5 143,-536.5 143,-468.5 289,-468.5 289,-536.5\"/>\n",
       "<text text-anchor=\"middle\" x=\"216\" y=\"-521.3\" font-family=\"Helvetica,sans-Serif\" font-size=\"14.00\">entropy = 0.663</text>\n",
       "<text text-anchor=\"middle\" x=\"216\" y=\"-506.3\" font-family=\"Helvetica,sans-Serif\" font-size=\"14.00\">samples = 29</text>\n",
       "<text text-anchor=\"middle\" x=\"216\" y=\"-491.3\" font-family=\"Helvetica,sans-Serif\" font-size=\"14.00\">value = [24, 5]</text>\n",
       "<text text-anchor=\"middle\" x=\"216\" y=\"-476.3\" font-family=\"Helvetica,sans-Serif\" font-size=\"14.00\">class = No-Izquierda</text>\n",
       "</g>\n",
       "<!-- 2&#45;&gt;3 -->\n",
       "<g id=\"edge3\" class=\"edge\"><title>2-&gt;3</title>\n",
       "<path fill=\"none\" stroke=\"black\" d=\"M274.122,-579.907C265.476,-568.542 256.072,-556.178 247.396,-544.774\"/>\n",
       "<polygon fill=\"black\" stroke=\"black\" points=\"250.07,-542.507 241.23,-536.667 244.498,-546.745 250.07,-542.507\"/>\n",
       "</g>\n",
       "<!-- 4 -->\n",
       "<g id=\"node5\" class=\"node\"><title>4</title>\n",
       "<polygon fill=\"#fcf2eb\" stroke=\"black\" points=\"480.5,-544 307.5,-544 307.5,-461 480.5,-461 480.5,-544\"/>\n",
       "<text text-anchor=\"middle\" x=\"394\" y=\"-528.8\" font-family=\"Helvetica,sans-Serif\" font-size=\"14.00\">perro_matapacos &lt;= 0.5</text>\n",
       "<text text-anchor=\"middle\" x=\"394\" y=\"-513.8\" font-family=\"Helvetica,sans-Serif\" font-size=\"14.00\">entropy = 0.998</text>\n",
       "<text text-anchor=\"middle\" x=\"394\" y=\"-498.8\" font-family=\"Helvetica,sans-Serif\" font-size=\"14.00\">samples = 773</text>\n",
       "<text text-anchor=\"middle\" x=\"394\" y=\"-483.8\" font-family=\"Helvetica,sans-Serif\" font-size=\"14.00\">value = [407, 366]</text>\n",
       "<text text-anchor=\"middle\" x=\"394\" y=\"-468.8\" font-family=\"Helvetica,sans-Serif\" font-size=\"14.00\">class = No-Izquierda</text>\n",
       "</g>\n",
       "<!-- 2&#45;&gt;4 -->\n",
       "<g id=\"edge4\" class=\"edge\"><title>2-&gt;4</title>\n",
       "<path fill=\"none\" stroke=\"black\" d=\"M335.878,-579.907C342.712,-570.923 350.021,-561.315 357.069,-552.05\"/>\n",
       "<polygon fill=\"black\" stroke=\"black\" points=\"359.908,-554.099 363.176,-544.021 354.336,-549.861 359.908,-554.099\"/>\n",
       "</g>\n",
       "<!-- 5 -->\n",
       "<g id=\"node6\" class=\"node\"><title>5</title>\n",
       "<polygon fill=\"#f8decb\" stroke=\"black\" points=\"390,-425 244,-425 244,-342 390,-342 390,-425\"/>\n",
       "<text text-anchor=\"middle\" x=\"317\" y=\"-409.8\" font-family=\"Helvetica,sans-Serif\" font-size=\"14.00\">perro_lipigas &lt;= 0.5</text>\n",
       "<text text-anchor=\"middle\" x=\"317\" y=\"-394.8\" font-family=\"Helvetica,sans-Serif\" font-size=\"14.00\">entropy = 0.984</text>\n",
       "<text text-anchor=\"middle\" x=\"317\" y=\"-379.8\" font-family=\"Helvetica,sans-Serif\" font-size=\"14.00\">samples = 697</text>\n",
       "<text text-anchor=\"middle\" x=\"317\" y=\"-364.8\" font-family=\"Helvetica,sans-Serif\" font-size=\"14.00\">value = [401, 296]</text>\n",
       "<text text-anchor=\"middle\" x=\"317\" y=\"-349.8\" font-family=\"Helvetica,sans-Serif\" font-size=\"14.00\">class = No-Izquierda</text>\n",
       "</g>\n",
       "<!-- 4&#45;&gt;5 -->\n",
       "<g id=\"edge5\" class=\"edge\"><title>4-&gt;5</title>\n",
       "<path fill=\"none\" stroke=\"black\" d=\"M367.285,-460.907C361.492,-452.105 355.305,-442.703 349.322,-433.612\"/>\n",
       "<polygon fill=\"black\" stroke=\"black\" points=\"352.089,-431.45 343.668,-425.021 346.241,-435.298 352.089,-431.45\"/>\n",
       "</g>\n",
       "<!-- 12 -->\n",
       "<g id=\"node13\" class=\"node\"><title>12</title>\n",
       "<polygon fill=\"#4aa5e7\" stroke=\"black\" points=\"532,-417.5 408,-417.5 408,-349.5 532,-349.5 532,-417.5\"/>\n",
       "<text text-anchor=\"middle\" x=\"470\" y=\"-402.3\" font-family=\"Helvetica,sans-Serif\" font-size=\"14.00\">entropy = 0.398</text>\n",
       "<text text-anchor=\"middle\" x=\"470\" y=\"-387.3\" font-family=\"Helvetica,sans-Serif\" font-size=\"14.00\">samples = 76</text>\n",
       "<text text-anchor=\"middle\" x=\"470\" y=\"-372.3\" font-family=\"Helvetica,sans-Serif\" font-size=\"14.00\">value = [6, 70]</text>\n",
       "<text text-anchor=\"middle\" x=\"470\" y=\"-357.3\" font-family=\"Helvetica,sans-Serif\" font-size=\"14.00\">class = Izquierda</text>\n",
       "</g>\n",
       "<!-- 4&#45;&gt;12 -->\n",
       "<g id=\"edge12\" class=\"edge\"><title>4-&gt;12</title>\n",
       "<path fill=\"none\" stroke=\"black\" d=\"M420.368,-460.907C427.679,-449.652 435.626,-437.418 442.974,-426.106\"/>\n",
       "<polygon fill=\"black\" stroke=\"black\" points=\"445.943,-427.96 448.456,-417.667 440.073,-424.146 445.943,-427.96\"/>\n",
       "</g>\n",
       "<!-- 6 -->\n",
       "<g id=\"node7\" class=\"node\"><title>6</title>\n",
       "<polygon fill=\"#fae7d9\" stroke=\"black\" points=\"308,-306 162,-306 162,-223 308,-223 308,-306\"/>\n",
       "<text text-anchor=\"middle\" x=\"235\" y=\"-290.8\" font-family=\"Helvetica,sans-Serif\" font-size=\"14.00\">sexo_Mujer &lt;= 0.5</text>\n",
       "<text text-anchor=\"middle\" x=\"235\" y=\"-275.8\" font-family=\"Helvetica,sans-Serif\" font-size=\"14.00\">entropy = 0.992</text>\n",
       "<text text-anchor=\"middle\" x=\"235\" y=\"-260.8\" font-family=\"Helvetica,sans-Serif\" font-size=\"14.00\">samples = 588</text>\n",
       "<text text-anchor=\"middle\" x=\"235\" y=\"-245.8\" font-family=\"Helvetica,sans-Serif\" font-size=\"14.00\">value = [325, 263]</text>\n",
       "<text text-anchor=\"middle\" x=\"235\" y=\"-230.8\" font-family=\"Helvetica,sans-Serif\" font-size=\"14.00\">class = No-Izquierda</text>\n",
       "</g>\n",
       "<!-- 5&#45;&gt;6 -->\n",
       "<g id=\"edge6\" class=\"edge\"><title>5-&gt;6</title>\n",
       "<path fill=\"none\" stroke=\"black\" d=\"M288.551,-341.907C282.317,-333.014 275.656,-323.509 269.223,-314.331\"/>\n",
       "<polygon fill=\"black\" stroke=\"black\" points=\"272.005,-312.201 263.399,-306.021 266.272,-316.219 272.005,-312.201\"/>\n",
       "</g>\n",
       "<!-- 11 -->\n",
       "<g id=\"node12\" class=\"node\"><title>11</title>\n",
       "<polygon fill=\"#f0b88f\" stroke=\"black\" points=\"472,-298.5 326,-298.5 326,-230.5 472,-230.5 472,-298.5\"/>\n",
       "<text text-anchor=\"middle\" x=\"399\" y=\"-283.3\" font-family=\"Helvetica,sans-Serif\" font-size=\"14.00\">entropy = 0.885</text>\n",
       "<text text-anchor=\"middle\" x=\"399\" y=\"-268.3\" font-family=\"Helvetica,sans-Serif\" font-size=\"14.00\">samples = 109</text>\n",
       "<text text-anchor=\"middle\" x=\"399\" y=\"-253.3\" font-family=\"Helvetica,sans-Serif\" font-size=\"14.00\">value = [76, 33]</text>\n",
       "<text text-anchor=\"middle\" x=\"399\" y=\"-238.3\" font-family=\"Helvetica,sans-Serif\" font-size=\"14.00\">class = No-Izquierda</text>\n",
       "</g>\n",
       "<!-- 5&#45;&gt;11 -->\n",
       "<g id=\"edge11\" class=\"edge\"><title>5-&gt;11</title>\n",
       "<path fill=\"none\" stroke=\"black\" d=\"M345.449,-341.907C353.338,-330.652 361.912,-318.418 369.84,-307.106\"/>\n",
       "<polygon fill=\"black\" stroke=\"black\" points=\"372.882,-308.865 375.755,-298.667 367.149,-304.847 372.882,-308.865\"/>\n",
       "</g>\n",
       "<!-- 7 -->\n",
       "<g id=\"node8\" class=\"node\"><title>7</title>\n",
       "<polygon fill=\"#f9e2d1\" stroke=\"black\" points=\"241.5,-187 56.5,-187 56.5,-104 241.5,-104 241.5,-187\"/>\n",
       "<text text-anchor=\"middle\" x=\"149\" y=\"-171.8\" font-family=\"Helvetica,sans-Serif\" font-size=\"14.00\">ocupacion_Ninguna &lt;= 0.5</text>\n",
       "<text text-anchor=\"middle\" x=\"149\" y=\"-156.8\" font-family=\"Helvetica,sans-Serif\" font-size=\"14.00\">entropy = 0.988</text>\n",
       "<text text-anchor=\"middle\" x=\"149\" y=\"-141.8\" font-family=\"Helvetica,sans-Serif\" font-size=\"14.00\">samples = 548</text>\n",
       "<text text-anchor=\"middle\" x=\"149\" y=\"-126.8\" font-family=\"Helvetica,sans-Serif\" font-size=\"14.00\">value = [310, 238]</text>\n",
       "<text text-anchor=\"middle\" x=\"149\" y=\"-111.8\" font-family=\"Helvetica,sans-Serif\" font-size=\"14.00\">class = No-Izquierda</text>\n",
       "</g>\n",
       "<!-- 6&#45;&gt;7 -->\n",
       "<g id=\"edge7\" class=\"edge\"><title>6-&gt;7</title>\n",
       "<path fill=\"none\" stroke=\"black\" d=\"M205.163,-222.907C198.626,-214.014 191.639,-204.509 184.893,-195.331\"/>\n",
       "<polygon fill=\"black\" stroke=\"black\" points=\"187.527,-193.005 178.785,-187.021 181.887,-197.151 187.527,-193.005\"/>\n",
       "</g>\n",
       "<!-- 10 -->\n",
       "<g id=\"node11\" class=\"node\"><title>10</title>\n",
       "<polygon fill=\"#b0d8f5\" stroke=\"black\" points=\"384,-179.5 260,-179.5 260,-111.5 384,-111.5 384,-179.5\"/>\n",
       "<text text-anchor=\"middle\" x=\"322\" y=\"-164.3\" font-family=\"Helvetica,sans-Serif\" font-size=\"14.00\">entropy = 0.954</text>\n",
       "<text text-anchor=\"middle\" x=\"322\" y=\"-149.3\" font-family=\"Helvetica,sans-Serif\" font-size=\"14.00\">samples = 40</text>\n",
       "<text text-anchor=\"middle\" x=\"322\" y=\"-134.3\" font-family=\"Helvetica,sans-Serif\" font-size=\"14.00\">value = [15, 25]</text>\n",
       "<text text-anchor=\"middle\" x=\"322\" y=\"-119.3\" font-family=\"Helvetica,sans-Serif\" font-size=\"14.00\">class = Izquierda</text>\n",
       "</g>\n",
       "<!-- 6&#45;&gt;10 -->\n",
       "<g id=\"edge10\" class=\"edge\"><title>6-&gt;10</title>\n",
       "<path fill=\"none\" stroke=\"black\" d=\"M265.184,-222.907C273.636,-211.542 282.829,-199.178 291.309,-187.774\"/>\n",
       "<polygon fill=\"black\" stroke=\"black\" points=\"294.179,-189.78 297.337,-179.667 288.562,-185.603 294.179,-189.78\"/>\n",
       "</g>\n",
       "<!-- 8 -->\n",
       "<g id=\"node9\" class=\"node\"><title>8</title>\n",
       "<polygon fill=\"#f8decb\" stroke=\"black\" points=\"146,-68 0,-68 0,-0 146,-0 146,-68\"/>\n",
       "<text text-anchor=\"middle\" x=\"73\" y=\"-52.8\" font-family=\"Helvetica,sans-Serif\" font-size=\"14.00\">entropy = 0.984</text>\n",
       "<text text-anchor=\"middle\" x=\"73\" y=\"-37.8\" font-family=\"Helvetica,sans-Serif\" font-size=\"14.00\">samples = 534</text>\n",
       "<text text-anchor=\"middle\" x=\"73\" y=\"-22.8\" font-family=\"Helvetica,sans-Serif\" font-size=\"14.00\">value = [307, 227]</text>\n",
       "<text text-anchor=\"middle\" x=\"73\" y=\"-7.8\" font-family=\"Helvetica,sans-Serif\" font-size=\"14.00\">class = No-Izquierda</text>\n",
       "</g>\n",
       "<!-- 7&#45;&gt;8 -->\n",
       "<g id=\"edge8\" class=\"edge\"><title>7-&gt;8</title>\n",
       "<path fill=\"none\" stroke=\"black\" d=\"M120.7,-103.726C114.56,-94.879 108.057,-85.51 101.894,-76.6303\"/>\n",
       "<polygon fill=\"black\" stroke=\"black\" points=\"104.689,-74.5191 96.1121,-68.2996 98.9386,-78.5104 104.689,-74.5191\"/>\n",
       "</g>\n",
       "<!-- 9 -->\n",
       "<g id=\"node10\" class=\"node\"><title>9</title>\n",
       "<polygon fill=\"#6fb8ec\" stroke=\"black\" points=\"288,-68 164,-68 164,-0 288,-0 288,-68\"/>\n",
       "<text text-anchor=\"middle\" x=\"226\" y=\"-52.8\" font-family=\"Helvetica,sans-Serif\" font-size=\"14.00\">entropy = 0.75</text>\n",
       "<text text-anchor=\"middle\" x=\"226\" y=\"-37.8\" font-family=\"Helvetica,sans-Serif\" font-size=\"14.00\">samples = 14</text>\n",
       "<text text-anchor=\"middle\" x=\"226\" y=\"-22.8\" font-family=\"Helvetica,sans-Serif\" font-size=\"14.00\">value = [3, 11]</text>\n",
       "<text text-anchor=\"middle\" x=\"226\" y=\"-7.8\" font-family=\"Helvetica,sans-Serif\" font-size=\"14.00\">class = Izquierda</text>\n",
       "</g>\n",
       "<!-- 7&#45;&gt;9 -->\n",
       "<g id=\"edge9\" class=\"edge\"><title>7-&gt;9</title>\n",
       "<path fill=\"none\" stroke=\"black\" d=\"M177.672,-103.726C183.893,-94.879 190.482,-85.51 196.726,-76.6303\"/>\n",
       "<polygon fill=\"black\" stroke=\"black\" points=\"199.695,-78.4929 202.584,-68.2996 193.969,-74.4664 199.695,-78.4929\"/>\n",
       "</g>\n",
       "</g>\n",
       "</svg>"
      ],
      "text/plain": [
       "<IPython.core.display.SVG object>"
      ]
     },
     "metadata": {},
     "output_type": "display_data"
    }
   ],
   "source": [
    "from sklearn import tree\n",
    "from graphviz import Source\n",
    "from IPython.display import SVG\n",
    "\n",
    "# Separamos en X e Y:\n",
    "modelo.fit(X_train, y_train)\n",
    "\n",
    "# Graficamos árbol:\n",
    "tree.export_graphviz(modelo, out_file='tree_balanced.dot')\n",
    "graph = Source(tree.export_graphviz(modelo, out_file=None, \n",
    "                                    feature_names = X_train.columns, \n",
    "                                    class_names=['No-Izquierda', 'Izquierda'], \n",
    "                                    filled = True))\n",
    "display(SVG(graph.pipe(format='svg')))"
   ]
  },
  {
   "cell_type": "markdown",
   "id": "9ea2b3ec-0efa-4a93-9518-73d746c97500",
   "metadata": {},
   "source": [
    "# Resultados modelo"
   ]
  },
  {
   "cell_type": "markdown",
   "id": "f9c4ff44-4c66-42b3-bd5f-a29fc145abb4",
   "metadata": {},
   "source": [
    "## Matrices de confusión"
   ]
  },
  {
   "cell_type": "code",
   "execution_count": 15,
   "id": "3b5a8822-3b90-46f9-a6dc-bedddcb39211",
   "metadata": {},
   "outputs": [
    {
     "name": "stdout",
     "output_type": "stream",
     "text": [
      "Resultado en Muestra de Entrenamiento:\n",
      "              precision    recall  f1-score   support\n",
      "\n",
      "           0       0.61      0.79      0.68       517\n",
      "           1       0.70      0.49      0.57       517\n",
      "\n",
      "    accuracy                           0.64      1034\n",
      "   macro avg       0.65      0.64      0.63      1034\n",
      "weighted avg       0.65      0.64      0.63      1034\n",
      "\n"
     ]
    }
   ],
   "source": [
    "y_pred_train = modelo.predict(X_train)\n",
    "y_pred_train = pd.DataFrame(y_pred_train, \n",
    "                            columns=[\"Y_predicha\"],index = y_train.index)\n",
    "\n",
    "from sklearn.metrics import classification_report\n",
    "print(\"Resultado en Muestra de Entrenamiento:\")\n",
    "\n",
    "print(classification_report(y_train, y_pred_train))"
   ]
  },
  {
   "cell_type": "code",
   "execution_count": 16,
   "id": "467b3fcb-7db3-44b6-8310-95e05b2132e5",
   "metadata": {},
   "outputs": [
    {
     "name": "stdout",
     "output_type": "stream",
     "text": [
      "Resultado en Muestra de Prueba:\n",
      "              precision    recall  f1-score   support\n",
      "\n",
      "           0       0.60      0.76      0.67       117\n",
      "           1       0.67      0.49      0.56       117\n",
      "\n",
      "    accuracy                           0.62       234\n",
      "   macro avg       0.63      0.62      0.62       234\n",
      "weighted avg       0.63      0.62      0.62       234\n",
      "\n"
     ]
    }
   ],
   "source": [
    "y_pred_test = modelo.predict(X_test)\n",
    "y_pred_test = pd.DataFrame(y_pred_test, \n",
    "                           columns=[\"Y_predicha\"],index = y_test.index)\n",
    "\n",
    "print(\"Resultado en Muestra de Prueba:\")\n",
    "\n",
    "print(classification_report(y_test, y_pred_test))"
   ]
  },
  {
   "cell_type": "markdown",
   "id": "4ec81c44-45af-41c2-864e-7085572e8efa",
   "metadata": {},
   "source": [
    "**Precision**: Cada vez que el modelo determina que un usuario de Reddit es de izquierda, acertará un 67% de las veces.  \n",
    "**Recall**: El modelo es capaz de identificar al 49% de las personas que son efectivamente de izquierda.  \n",
    "**Accuracy**: El modelo acierta un 62% de las veces."
   ]
  },
  {
   "cell_type": "markdown",
   "id": "26c27746-1e84-4b93-a113-d0e38b85d956",
   "metadata": {},
   "source": [
    "## Curva ROC"
   ]
  },
  {
   "cell_type": "code",
   "execution_count": 17,
   "id": "6ef75467-b09f-4293-bc56-1b55adac58dd",
   "metadata": {},
   "outputs": [
    {
     "data": {
      "image/png": "[encoded data removed]",
      "text/plain": [
       "<Figure size 432x288 with 1 Axes>"
      ]
     },
     "metadata": {},
     "output_type": "display_data"
    }
   ],
   "source": [
    "from sklearn import metrics\n",
    "import matplotlib.pyplot as plt\n",
    "\n",
    "y_prob_test = modelo.predict_proba(X_test)[:,1]\n",
    "fpr, tpr, _ = metrics.roc_curve(y_test, y_prob_test)\n",
    "auc = round(metrics.roc_auc_score(y_test, y_prob_test),2)\n",
    "\n",
    "with plt.xkcd():\n",
    "    plt.plot(fpr, tpr, label=\"AUC=\"+str(auc))\n",
    "    plt.ylabel('True Positive Rate')\n",
    "    plt.xlabel('False Positive Rate')\n",
    "    plt.legend(loc=4)\n",
    "    plt.show()"
   ]
  },
  {
   "cell_type": "markdown",
   "id": "4aa7151a-d94f-44d6-b7b2-e88187315673",
   "metadata": {},
   "source": [
    "## Curva PR"
   ]
  },
  {
   "cell_type": "code",
   "execution_count": 22,
   "id": "aea78150-1564-46f3-b7e4-65b890112c77",
   "metadata": {},
   "outputs": [
    {
     "data": {
      "image/png": "[encoded data removed]",
      "text/plain": [
       "<Figure size 432x288 with 1 Axes>"
      ]
     },
     "metadata": {},
     "output_type": "display_data"
    }
   ],
   "source": [
    "with plt.xkcd():\n",
    "    pr = metrics.precision_recall_curve(y_test, y_prob_test)\n",
    "    auc_pr = round(metrics.average_precision_score(y_test, y_prob_test), 2)\n",
    "    plt.plot(pr[1], pr[0], label=\"AUC=\"+str(auc_pr))\n",
    "    plt.ylabel('Precision')\n",
    "    plt.xlabel('Recall')\n",
    "    plt.legend(loc=1)\n",
    "    plt.show()"
   ]
  },
  {
   "cell_type": "markdown",
   "id": "f2d5cacf-9f93-4782-a7b4-2cb8b86875fc",
   "metadata": {},
   "source": [
    "## Variance Importance Factor"
   ]
  },
  {
   "cell_type": "code",
   "execution_count": 19,
   "id": "37761fb8-dc48-46e3-b19c-6b99e86698e2",
   "metadata": {},
   "outputs": [
    {
     "data": {
      "text/html": [
       "<div>\n",
       "<style scoped>\n",
       "    .dataframe tbody tr th:only-of-type {\n",
       "        vertical-align: middle;\n",
       "    }\n",
       "\n",
       "    .dataframe tbody tr th {\n",
       "        vertical-align: top;\n",
       "    }\n",
       "\n",
       "    .dataframe thead th {\n",
       "        text-align: right;\n",
       "    }\n",
       "</style>\n",
       "<table border=\"1\" class=\"dataframe\">\n",
       "  <thead>\n",
       "    <tr style=\"text-align: right;\">\n",
       "      <th></th>\n",
       "      <th>feature</th>\n",
       "      <th>mean_entropy_decrease</th>\n",
       "    </tr>\n",
       "  </thead>\n",
       "  <tbody>\n",
       "    <tr>\n",
       "      <th>43</th>\n",
       "      <td>perro_matapacos</td>\n",
       "      <td>0.595382</td>\n",
       "    </tr>\n",
       "    <tr>\n",
       "      <th>5</th>\n",
       "      <td>orientacion_Heterosexual</td>\n",
       "      <td>0.155937</td>\n",
       "    </tr>\n",
       "    <tr>\n",
       "      <th>0</th>\n",
       "      <td>edad</td>\n",
       "      <td>0.086689</td>\n",
       "    </tr>\n",
       "    <tr>\n",
       "      <th>42</th>\n",
       "      <td>perro_lipigas</td>\n",
       "      <td>0.062602</td>\n",
       "    </tr>\n",
       "    <tr>\n",
       "      <th>8</th>\n",
       "      <td>ocupacion_Ninguna</td>\n",
       "      <td>0.057182</td>\n",
       "    </tr>\n",
       "  </tbody>\n",
       "</table>\n",
       "</div>"
      ],
      "text/plain": [
       "                     feature  mean_entropy_decrease\n",
       "43           perro_matapacos               0.595382\n",
       "5   orientacion_Heterosexual               0.155937\n",
       "0                       edad               0.086689\n",
       "42             perro_lipigas               0.062602\n",
       "8          ocupacion_Ninguna               0.057182"
      ]
     },
     "execution_count": 19,
     "metadata": {},
     "output_type": "execute_result"
    }
   ],
   "source": [
    "vil = pd.DataFrame(list(zip(X.columns,modelo.feature_importances_)),\n",
    "                   columns=['feature','mean_entropy_decrease']\n",
    "                  ).sort_values(by='mean_entropy_decrease', ascending=False)\n",
    "vil.head()"
   ]
  }
 ],
 "metadata": {
  "kernelspec": {
   "display_name": "Python 3 (ipykernel)",
   "language": "python",
   "name": "python3"
  },
  "language_info": {
   "codemirror_mode": {
    "name": "ipython",
    "version": 3
   },
   "file_extension": ".py",
   "mimetype": "text/x-python",
   "name": "python",
   "nbconvert_exporter": "python",
   "pygments_lexer": "ipython3",
   "version": "3.8.13"
  }
 },
 "nbformat": 4,
 "nbformat_minor": 5
}
