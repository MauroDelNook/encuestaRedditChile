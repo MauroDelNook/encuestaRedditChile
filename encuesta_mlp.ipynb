{
 "cells": [
  {
   "cell_type": "markdown",
   "id": "c00b3e04-e85d-41a7-922a-cb208e139d60",
   "metadata": {
    "tags": []
   },
   "source": [
    "# MLPClassifier para encuesta Reddit Chile"
   ]
  },
  {
   "cell_type": "markdown",
   "id": "dae66461-8a4b-4118-b95e-8f32e6f619c1",
   "metadata": {
    "tags": []
   },
   "source": [
    "## Conexión a fuente de datos"
   ]
  },
  {
   "cell_type": "code",
   "execution_count": 1,
   "id": "c88392e6-a842-4ab5-9724-e5bc93c87196",
   "metadata": {},
   "outputs": [],
   "source": [
    "import numpy as np\n",
    "import pandas as pd"
   ]
  },
  {
   "cell_type": "code",
   "execution_count": 2,
   "id": "f5d20bdd-2bd9-42ac-9ade-9aeb5d5d616b",
   "metadata": {
    "tags": []
   },
   "outputs": [],
   "source": [
    "df = pd.read_pickle(\"data/df_encuesta.pkl\")"
   ]
  },
  {
   "cell_type": "code",
   "execution_count": 3,
   "id": "d087b7ad-e425-4448-ad90-7c8d4c22905f",
   "metadata": {},
   "outputs": [
    {
     "name": "stdout",
     "output_type": "stream",
     "text": [
      "<class 'pandas.core.frame.DataFrame'>\n",
      "Int64Index: 1170 entries, 0 to 1181\n",
      "Data columns (total 47 columns):\n",
      " #   Column                     Non-Null Count  Dtype\n",
      "---  ------                     --------------  -----\n",
      " 0   edad                       1170 non-null   int32\n",
      " 1   religion                   1170 non-null   int8 \n",
      " 2   sexo_Hombre                1170 non-null   uint8\n",
      " 3   sexo_Mujer                 1170 non-null   uint8\n",
      " 4   orientacion_Bisexual       1170 non-null   uint8\n",
      " 5   orientacion_Heterosexual   1170 non-null   uint8\n",
      " 6   orientacion_Homosexual     1170 non-null   uint8\n",
      " 7   ocupacion_Estudio          1170 non-null   uint8\n",
      " 8   ocupacion_Ninguna          1170 non-null   uint8\n",
      " 9   ocupacion_Trabajo          1170 non-null   uint8\n",
      " 10  ocupacion_Trabajo;Estudio  1170 non-null   uint8\n",
      " 11  region_I                   1170 non-null   uint8\n",
      " 12  region_II                  1170 non-null   uint8\n",
      " 13  region_III                 1170 non-null   uint8\n",
      " 14  region_IV                  1170 non-null   uint8\n",
      " 15  region_IX                  1170 non-null   uint8\n",
      " 16  region_RM                  1170 non-null   uint8\n",
      " 17  region_V                   1170 non-null   uint8\n",
      " 18  region_VI                  1170 non-null   uint8\n",
      " 19  region_VII                 1170 non-null   uint8\n",
      " 20  region_VIII                1170 non-null   uint8\n",
      " 21  region_X                   1170 non-null   uint8\n",
      " 22  region_XI                  1170 non-null   uint8\n",
      " 23  region_XII                 1170 non-null   uint8\n",
      " 24  region_XIV                 1170 non-null   uint8\n",
      " 25  region_XV                  1170 non-null   uint8\n",
      " 26  region_XVI                 1170 non-null   uint8\n",
      " 27  educacion_media            1170 non-null   uint8\n",
      " 28  educacion_posgrado         1170 non-null   uint8\n",
      " 29  educacion_superior         1170 non-null   uint8\n",
      " 30  politica_izquierda         1170 non-null   uint8\n",
      " 31  musica_Metal               1170 non-null   uint8\n",
      " 32  musica_Pop                 1170 non-null   uint8\n",
      " 33  musica_Rap                 1170 non-null   uint8\n",
      " 34  musica_Rock                1170 non-null   uint8\n",
      " 35  deporte_1hora              1170 non-null   uint8\n",
      " 36  deporte_2horas             1170 non-null   uint8\n",
      " 37  deporte_4horas             1170 non-null   uint8\n",
      " 38  perro_agua                 1170 non-null   uint8\n",
      " 39  perro_atom_humber          1170 non-null   uint8\n",
      " 40  perro_bus                  1170 non-null   uint8\n",
      " 41  perro_chilaquil            1170 non-null   uint8\n",
      " 42  perro_ladron               1170 non-null   uint8\n",
      " 43  perro_lipigas              1170 non-null   uint8\n",
      " 44  perro_matapacos            1170 non-null   uint8\n",
      " 45  perro_washington           1170 non-null   uint8\n",
      " 46  perro_waton                1170 non-null   uint8\n",
      "dtypes: int32(1), int8(1), uint8(45)\n",
      "memory usage: 66.3 KB\n"
     ]
    }
   ],
   "source": [
    "df.info()"
   ]
  },
  {
   "cell_type": "markdown",
   "id": "f9bf272f-7fa9-440b-9b3d-18499dcdc526",
   "metadata": {},
   "source": [
    "# Selección de variables predictoras y de respuesta."
   ]
  },
  {
   "cell_type": "code",
   "execution_count": 4,
   "id": "1c36a924-f532-49eb-9199-5f19284422d5",
   "metadata": {},
   "outputs": [],
   "source": [
    "X = df.loc[:, ~df.columns.isin(['politica_izquierda'])]\n",
    "y = df['politica_izquierda']"
   ]
  },
  {
   "cell_type": "markdown",
   "id": "07779bcd-3204-4103-9ca0-f99822caaa1d",
   "metadata": {},
   "source": [
    "# Generación data de entrenamiento y testeo más balanceo"
   ]
  },
  {
   "cell_type": "code",
   "execution_count": 5,
   "id": "3ee2e281-a6b2-4d63-8df0-159256d6f160",
   "metadata": {},
   "outputs": [],
   "source": [
    "# creamos ahora muestras de entrenamiento y prueba seleccionadas aleatoriamente:\n",
    "from sklearn.model_selection import train_test_split\n",
    "\n",
    "X_train, X_test, y_train, y_test = train_test_split(X, y, test_size=0.20, \n",
    "                                                    random_state = 42)"
   ]
  },
  {
   "cell_type": "code",
   "execution_count": 6,
   "id": "1ed4abdb-f49e-446a-9203-710acb802dbe",
   "metadata": {},
   "outputs": [
    {
     "data": {
      "text/plain": [
       "1    517\n",
       "0    419\n",
       "Name: politica_izquierda, dtype: int64"
      ]
     },
     "execution_count": 6,
     "metadata": {},
     "output_type": "execute_result"
    }
   ],
   "source": [
    "# datos de entrenamiento antes de balance \n",
    "y_train.value_counts()"
   ]
  },
  {
   "cell_type": "code",
   "execution_count": 7,
   "id": "402be3e5-f7b2-4f5e-8a09-00f236fb5336",
   "metadata": {},
   "outputs": [],
   "source": [
    "# balaceo con sobremuestro\n",
    "y_train_Q = y_train[y_train == 1]\n",
    "y_train_NQ = y_train[y_train == 0]\n",
    "y_train_NQ = y_train_NQ.sample(len(y_train_Q), replace = True, \n",
    "                               random_state = 42)\n",
    "y_train = pd.concat([y_train_Q, y_train_NQ], axis=0)\n",
    "X_train = X_train.loc[y_train.index,:]\n",
    "\n",
    "del [y_train_Q, y_train_NQ]"
   ]
  },
  {
   "cell_type": "code",
   "execution_count": 8,
   "id": "88e7af8f-1425-4a65-902f-c3b9f0adc373",
   "metadata": {},
   "outputs": [
    {
     "data": {
      "text/plain": [
       "1    517\n",
       "0    517\n",
       "Name: politica_izquierda, dtype: int64"
      ]
     },
     "execution_count": 8,
     "metadata": {},
     "output_type": "execute_result"
    }
   ],
   "source": [
    "# datos de entrenamiento despueés de balanceo\n",
    "y_train.value_counts()"
   ]
  },
  {
   "cell_type": "markdown",
   "id": "585c0976-cba5-41a2-8470-d01393a3bcd3",
   "metadata": {},
   "source": [
    "# Cross-Validation y ajuste"
   ]
  },
  {
   "cell_type": "code",
   "execution_count": 9,
   "id": "06b893fc-51a3-4277-8646-d60f769c7926",
   "metadata": {},
   "outputs": [
    {
     "data": {
      "text/plain": [
       "12"
      ]
     },
     "execution_count": 9,
     "metadata": {},
     "output_type": "execute_result"
    }
   ],
   "source": [
    "import multiprocessing\n",
    "\n",
    "cores = multiprocessing.cpu_count()\n",
    "cores"
   ]
  },
  {
   "cell_type": "code",
   "execution_count": 10,
   "id": "99a98dbd-2ca2-43b9-be97-d3d58e23d7a7",
   "metadata": {},
   "outputs": [
    {
     "data": {
      "text/plain": [
       "{'fit_time': array([5.45349789, 5.51404858, 5.60910058, 5.4869287 , 5.65232444]),\n",
       " 'score_time': array([0.00199509, 0.00199461, 0.00199413, 0.00268483, 0.00201559]),\n",
       " 'test_score': array([0.55982906, 0.58547009, 0.6025641 , 0.56837607, 0.58547009]),\n",
       " 'train_score': array([0.95405983, 0.94230769, 0.9465812 , 0.94444444, 0.94337607])}"
      ]
     },
     "execution_count": 10,
     "metadata": {},
     "output_type": "execute_result"
    }
   ],
   "source": [
    "from sklearn.model_selection import cross_validate\n",
    "from sklearn.neural_network import MLPClassifier\n",
    "\n",
    "# modelo logístico base\n",
    "mlp = MLPClassifier(alpha = 0, \n",
    "                    hidden_layer_sizes = (100),\n",
    "                    max_iter = 1000,\n",
    "                    activation = 'tanh',\n",
    "                    random_state = 42)\n",
    "\n",
    "modelo_mlp = mlp.fit(X_train, y_train)\n",
    "\n",
    "# Validación cruzada\n",
    "cv = cross_validate(modelo_mlp,\n",
    "                    X,\n",
    "                    y,\n",
    "                    cv = 5,\n",
    "                    n_jobs = cores,\n",
    "                    return_train_score = True)\n",
    "cv"
   ]
  },
  {
   "cell_type": "code",
   "execution_count": 11,
   "id": "17cce52a-d654-455a-872d-122c84c0109b",
   "metadata": {},
   "outputs": [
    {
     "name": "stdout",
     "output_type": "stream",
     "text": [
      "Accuracy:\n",
      "0.5982905982905983\n"
     ]
    }
   ],
   "source": [
    "from sklearn.metrics import accuracy_score\n",
    "\n",
    "print('Accuracy:')\n",
    "print(accuracy_score(y_test, modelo_mlp.predict(X_test)))"
   ]
  },
  {
   "cell_type": "markdown",
   "id": "9ea2b3ec-0efa-4a93-9518-73d746c97500",
   "metadata": {},
   "source": [
    "# Resultados modelo"
   ]
  },
  {
   "cell_type": "markdown",
   "id": "f9c4ff44-4c66-42b3-bd5f-a29fc145abb4",
   "metadata": {},
   "source": [
    "## Matrices de confusión"
   ]
  },
  {
   "cell_type": "code",
   "execution_count": 12,
   "id": "3b5a8822-3b90-46f9-a6dc-bedddcb39211",
   "metadata": {},
   "outputs": [
    {
     "name": "stdout",
     "output_type": "stream",
     "text": [
      "Resultado en Muestra de Entrenamiento:\n",
      "              precision    recall  f1-score   support\n",
      "\n",
      "           0       0.93      0.88      0.91       517\n",
      "           1       0.89      0.94      0.91       517\n",
      "\n",
      "    accuracy                           0.91      1034\n",
      "   macro avg       0.91      0.91      0.91      1034\n",
      "weighted avg       0.91      0.91      0.91      1034\n",
      "\n"
     ]
    }
   ],
   "source": [
    "y_pred_train = modelo_mlp.predict(X_train)\n",
    "y_pred_train = pd.DataFrame(y_pred_train, \n",
    "                            columns=[\"Y_predicha\"],index = y_train.index)\n",
    "\n",
    "from sklearn.metrics import classification_report\n",
    "print(\"Resultado en Muestra de Entrenamiento:\")\n",
    "\n",
    "print(classification_report(y_train, y_pred_train))"
   ]
  },
  {
   "cell_type": "code",
   "execution_count": 13,
   "id": "467b3fcb-7db3-44b6-8310-95e05b2132e5",
   "metadata": {},
   "outputs": [
    {
     "name": "stdout",
     "output_type": "stream",
     "text": [
      "Resultado en Muestra de Prueba:\n",
      "              precision    recall  f1-score   support\n",
      "\n",
      "           0       0.64      0.46      0.53       117\n",
      "           1       0.58      0.74      0.65       117\n",
      "\n",
      "    accuracy                           0.60       234\n",
      "   macro avg       0.61      0.60      0.59       234\n",
      "weighted avg       0.61      0.60      0.59       234\n",
      "\n"
     ]
    }
   ],
   "source": [
    "y_pred_test = modelo_mlp.predict(X_test)\n",
    "y_pred_test = pd.DataFrame(y_pred_test, \n",
    "                           columns=[\"Y_predicha\"],index = y_test.index)\n",
    "\n",
    "print(\"Resultado en Muestra de Prueba:\")\n",
    "\n",
    "print(classification_report(y_test, y_pred_test))"
   ]
  },
  {
   "cell_type": "markdown",
   "id": "4ec81c44-45af-41c2-864e-7085572e8efa",
   "metadata": {},
   "source": [
    "**Precision**: Cada vez que el modelo determina que un usuario de Reddit es de izquierda, acertará un 58% de las veces.  \n",
    "**Recall**: El modelo es capaz de identificar al 74% de las personas que son efectivamente de izquierda.  \n",
    "**Accuracy**: El modelo acierta un 60% de las veces."
   ]
  },
  {
   "cell_type": "markdown",
   "id": "26c27746-1e84-4b93-a113-d0e38b85d956",
   "metadata": {},
   "source": [
    "## Curva ROC"
   ]
  },
  {
   "cell_type": "code",
   "execution_count": 14,
   "id": "6ef75467-b09f-4293-bc56-1b55adac58dd",
   "metadata": {},
   "outputs": [
    {
     "data": {
      "image/png": "[encoded data removed]",
      "text/plain": [
       "<Figure size 432x288 with 1 Axes>"
      ]
     },
     "metadata": {},
     "output_type": "display_data"
    }
   ],
   "source": [
    "from sklearn import metrics\n",
    "import matplotlib.pyplot as plt\n",
    "\n",
    "y_prob_test = modelo_mlp.predict_proba(X_test)[:,1]\n",
    "fpr, tpr, _ = metrics.roc_curve(y_test, y_prob_test)\n",
    "auc = round(metrics.roc_auc_score(y_test, y_prob_test),2)\n",
    "\n",
    "with plt.xkcd():\n",
    "    plt.plot(fpr, tpr, label=\"AUC=\"+str(auc))\n",
    "    plt.ylabel('True Positive Rate')\n",
    "    plt.xlabel('False Positive Rate')\n",
    "    plt.legend(loc=4)\n",
    "    plt.show()"
   ]
  },
  {
   "cell_type": "markdown",
   "id": "4aa7151a-d94f-44d6-b7b2-e88187315673",
   "metadata": {},
   "source": [
    "## Curva PR"
   ]
  },
  {
   "cell_type": "code",
   "execution_count": 15,
   "id": "aea78150-1564-46f3-b7e4-65b890112c77",
   "metadata": {},
   "outputs": [
    {
     "data": {
      "image/png": "[encoded data removed]",
      "text/plain": [
       "<Figure size 432x288 with 1 Axes>"
      ]
     },
     "metadata": {},
     "output_type": "display_data"
    }
   ],
   "source": [
    "with plt.xkcd():\n",
    "    pr = metrics.precision_recall_curve(y_test, y_prob_test)\n",
    "    auc_pr = round(metrics.average_precision_score(y_test, y_prob_test), 2)\n",
    "    plt.plot(pr[1], pr[0], label=\"AUC=\"+str(auc_pr))\n",
    "    plt.ylabel('Precision')\n",
    "    plt.xlabel('Recall')\n",
    "    plt.legend(loc=1)\n",
    "    plt.show()"
   ]
  }
 ],
 "metadata": {
  "kernelspec": {
   "display_name": "Python 3 (ipykernel)",
   "language": "python",
   "name": "python3"
  },
  "language_info": {
   "codemirror_mode": {
    "name": "ipython",
    "version": 3
   },
   "file_extension": ".py",
   "mimetype": "text/x-python",
   "name": "python",
   "nbconvert_exporter": "python",
   "pygments_lexer": "ipython3",
   "version": "3.8.13"
  }
 },
 "nbformat": 4,
 "nbformat_minor": 5
}
