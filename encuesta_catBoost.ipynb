{
 "cells": [
  {
   "cell_type": "markdown",
   "id": "c00b3e04-e85d-41a7-922a-cb208e139d60",
   "metadata": {
    "tags": []
   },
   "source": [
    "# Modelo CatBoost: Encuesta Reddit Chile"
   ]
  },
  {
   "cell_type": "markdown",
   "id": "a3261d7c-e8fc-4590-96d7-9f3d7463ae52",
   "metadata": {
    "tags": []
   },
   "source": [
    "## Conexión a fuente de datos"
   ]
  },
  {
   "cell_type": "code",
   "execution_count": 1,
   "id": "c88392e6-a842-4ab5-9724-e5bc93c87196",
   "metadata": {},
   "outputs": [],
   "source": [
    "import numpy as np\n",
    "import pandas as pd"
   ]
  },
  {
   "cell_type": "code",
   "execution_count": 2,
   "id": "f5d20bdd-2bd9-42ac-9ade-9aeb5d5d616b",
   "metadata": {
    "tags": []
   },
   "outputs": [],
   "source": [
    "df = pd.read_pickle(\"data/df_encuesta.pkl\")"
   ]
  },
  {
   "cell_type": "code",
   "execution_count": 3,
   "id": "d087b7ad-e425-4448-ad90-7c8d4c22905f",
   "metadata": {},
   "outputs": [
    {
     "name": "stdout",
     "output_type": "stream",
     "text": [
      "<class 'pandas.core.frame.DataFrame'>\n",
      "Int64Index: 1170 entries, 0 to 1181\n",
      "Data columns (total 47 columns):\n",
      " #   Column                     Non-Null Count  Dtype\n",
      "---  ------                     --------------  -----\n",
      " 0   edad                       1170 non-null   int32\n",
      " 1   religion                   1170 non-null   int8 \n",
      " 2   sexo_Hombre                1170 non-null   uint8\n",
      " 3   sexo_Mujer                 1170 non-null   uint8\n",
      " 4   orientacion_Bisexual       1170 non-null   uint8\n",
      " 5   orientacion_Heterosexual   1170 non-null   uint8\n",
      " 6   orientacion_Homosexual     1170 non-null   uint8\n",
      " 7   ocupacion_Estudio          1170 non-null   uint8\n",
      " 8   ocupacion_Ninguna          1170 non-null   uint8\n",
      " 9   ocupacion_Trabajo          1170 non-null   uint8\n",
      " 10  ocupacion_Trabajo;Estudio  1170 non-null   uint8\n",
      " 11  region_I                   1170 non-null   uint8\n",
      " 12  region_II                  1170 non-null   uint8\n",
      " 13  region_III                 1170 non-null   uint8\n",
      " 14  region_IV                  1170 non-null   uint8\n",
      " 15  region_IX                  1170 non-null   uint8\n",
      " 16  region_RM                  1170 non-null   uint8\n",
      " 17  region_V                   1170 non-null   uint8\n",
      " 18  region_VI                  1170 non-null   uint8\n",
      " 19  region_VII                 1170 non-null   uint8\n",
      " 20  region_VIII                1170 non-null   uint8\n",
      " 21  region_X                   1170 non-null   uint8\n",
      " 22  region_XI                  1170 non-null   uint8\n",
      " 23  region_XII                 1170 non-null   uint8\n",
      " 24  region_XIV                 1170 non-null   uint8\n",
      " 25  region_XV                  1170 non-null   uint8\n",
      " 26  region_XVI                 1170 non-null   uint8\n",
      " 27  educacion_media            1170 non-null   uint8\n",
      " 28  educacion_posgrado         1170 non-null   uint8\n",
      " 29  educacion_superior         1170 non-null   uint8\n",
      " 30  politica_izquierda         1170 non-null   uint8\n",
      " 31  musica_Metal               1170 non-null   uint8\n",
      " 32  musica_Pop                 1170 non-null   uint8\n",
      " 33  musica_Rap                 1170 non-null   uint8\n",
      " 34  musica_Rock                1170 non-null   uint8\n",
      " 35  deporte_1hora              1170 non-null   uint8\n",
      " 36  deporte_2horas             1170 non-null   uint8\n",
      " 37  deporte_4horas             1170 non-null   uint8\n",
      " 38  perro_agua                 1170 non-null   uint8\n",
      " 39  perro_atom_humber          1170 non-null   uint8\n",
      " 40  perro_bus                  1170 non-null   uint8\n",
      " 41  perro_chilaquil            1170 non-null   uint8\n",
      " 42  perro_ladron               1170 non-null   uint8\n",
      " 43  perro_lipigas              1170 non-null   uint8\n",
      " 44  perro_matapacos            1170 non-null   uint8\n",
      " 45  perro_washington           1170 non-null   uint8\n",
      " 46  perro_waton                1170 non-null   uint8\n",
      "dtypes: int32(1), int8(1), uint8(45)\n",
      "memory usage: 66.3 KB\n"
     ]
    }
   ],
   "source": [
    "df.info()"
   ]
  },
  {
   "cell_type": "code",
   "execution_count": 4,
   "id": "eec9f889-d991-40f1-857f-96925addc74e",
   "metadata": {},
   "outputs": [
    {
     "data": {
      "text/html": [
       "<div>\n",
       "<style scoped>\n",
       "    .dataframe tbody tr th:only-of-type {\n",
       "        vertical-align: middle;\n",
       "    }\n",
       "\n",
       "    .dataframe tbody tr th {\n",
       "        vertical-align: top;\n",
       "    }\n",
       "\n",
       "    .dataframe thead th {\n",
       "        text-align: right;\n",
       "    }\n",
       "</style>\n",
       "<table border=\"1\" class=\"dataframe\">\n",
       "  <thead>\n",
       "    <tr style=\"text-align: right;\">\n",
       "      <th></th>\n",
       "      <th>edad</th>\n",
       "      <th>religion</th>\n",
       "      <th>sexo_Hombre</th>\n",
       "      <th>sexo_Mujer</th>\n",
       "      <th>orientacion_Bisexual</th>\n",
       "      <th>orientacion_Heterosexual</th>\n",
       "      <th>orientacion_Homosexual</th>\n",
       "      <th>ocupacion_Estudio</th>\n",
       "      <th>ocupacion_Ninguna</th>\n",
       "      <th>ocupacion_Trabajo</th>\n",
       "      <th>...</th>\n",
       "      <th>deporte_4horas</th>\n",
       "      <th>perro_agua</th>\n",
       "      <th>perro_atom_humber</th>\n",
       "      <th>perro_bus</th>\n",
       "      <th>perro_chilaquil</th>\n",
       "      <th>perro_ladron</th>\n",
       "      <th>perro_lipigas</th>\n",
       "      <th>perro_matapacos</th>\n",
       "      <th>perro_washington</th>\n",
       "      <th>perro_waton</th>\n",
       "    </tr>\n",
       "  </thead>\n",
       "  <tbody>\n",
       "    <tr>\n",
       "      <th>0</th>\n",
       "      <td>27</td>\n",
       "      <td>0</td>\n",
       "      <td>1</td>\n",
       "      <td>0</td>\n",
       "      <td>1</td>\n",
       "      <td>0</td>\n",
       "      <td>0</td>\n",
       "      <td>0</td>\n",
       "      <td>0</td>\n",
       "      <td>1</td>\n",
       "      <td>...</td>\n",
       "      <td>0</td>\n",
       "      <td>0</td>\n",
       "      <td>0</td>\n",
       "      <td>0</td>\n",
       "      <td>0</td>\n",
       "      <td>1</td>\n",
       "      <td>0</td>\n",
       "      <td>0</td>\n",
       "      <td>0</td>\n",
       "      <td>0</td>\n",
       "    </tr>\n",
       "    <tr>\n",
       "      <th>1</th>\n",
       "      <td>30</td>\n",
       "      <td>0</td>\n",
       "      <td>1</td>\n",
       "      <td>0</td>\n",
       "      <td>0</td>\n",
       "      <td>1</td>\n",
       "      <td>0</td>\n",
       "      <td>0</td>\n",
       "      <td>0</td>\n",
       "      <td>1</td>\n",
       "      <td>...</td>\n",
       "      <td>0</td>\n",
       "      <td>0</td>\n",
       "      <td>0</td>\n",
       "      <td>0</td>\n",
       "      <td>0</td>\n",
       "      <td>1</td>\n",
       "      <td>0</td>\n",
       "      <td>0</td>\n",
       "      <td>0</td>\n",
       "      <td>0</td>\n",
       "    </tr>\n",
       "    <tr>\n",
       "      <th>2</th>\n",
       "      <td>26</td>\n",
       "      <td>0</td>\n",
       "      <td>1</td>\n",
       "      <td>0</td>\n",
       "      <td>0</td>\n",
       "      <td>1</td>\n",
       "      <td>0</td>\n",
       "      <td>0</td>\n",
       "      <td>0</td>\n",
       "      <td>1</td>\n",
       "      <td>...</td>\n",
       "      <td>0</td>\n",
       "      <td>0</td>\n",
       "      <td>0</td>\n",
       "      <td>0</td>\n",
       "      <td>0</td>\n",
       "      <td>1</td>\n",
       "      <td>0</td>\n",
       "      <td>0</td>\n",
       "      <td>0</td>\n",
       "      <td>0</td>\n",
       "    </tr>\n",
       "    <tr>\n",
       "      <th>3</th>\n",
       "      <td>18</td>\n",
       "      <td>1</td>\n",
       "      <td>1</td>\n",
       "      <td>0</td>\n",
       "      <td>0</td>\n",
       "      <td>1</td>\n",
       "      <td>0</td>\n",
       "      <td>1</td>\n",
       "      <td>0</td>\n",
       "      <td>0</td>\n",
       "      <td>...</td>\n",
       "      <td>1</td>\n",
       "      <td>0</td>\n",
       "      <td>0</td>\n",
       "      <td>0</td>\n",
       "      <td>0</td>\n",
       "      <td>1</td>\n",
       "      <td>0</td>\n",
       "      <td>0</td>\n",
       "      <td>0</td>\n",
       "      <td>0</td>\n",
       "    </tr>\n",
       "    <tr>\n",
       "      <th>4</th>\n",
       "      <td>19</td>\n",
       "      <td>0</td>\n",
       "      <td>1</td>\n",
       "      <td>0</td>\n",
       "      <td>0</td>\n",
       "      <td>1</td>\n",
       "      <td>0</td>\n",
       "      <td>1</td>\n",
       "      <td>0</td>\n",
       "      <td>0</td>\n",
       "      <td>...</td>\n",
       "      <td>0</td>\n",
       "      <td>0</td>\n",
       "      <td>0</td>\n",
       "      <td>0</td>\n",
       "      <td>0</td>\n",
       "      <td>0</td>\n",
       "      <td>0</td>\n",
       "      <td>0</td>\n",
       "      <td>0</td>\n",
       "      <td>1</td>\n",
       "    </tr>\n",
       "  </tbody>\n",
       "</table>\n",
       "<p>5 rows × 47 columns</p>\n",
       "</div>"
      ],
      "text/plain": [
       "   edad  religion  sexo_Hombre  sexo_Mujer  orientacion_Bisexual  \\\n",
       "0    27         0            1           0                     1   \n",
       "1    30         0            1           0                     0   \n",
       "2    26         0            1           0                     0   \n",
       "3    18         1            1           0                     0   \n",
       "4    19         0            1           0                     0   \n",
       "\n",
       "   orientacion_Heterosexual  orientacion_Homosexual  ocupacion_Estudio  \\\n",
       "0                         0                       0                  0   \n",
       "1                         1                       0                  0   \n",
       "2                         1                       0                  0   \n",
       "3                         1                       0                  1   \n",
       "4                         1                       0                  1   \n",
       "\n",
       "   ocupacion_Ninguna  ocupacion_Trabajo  ...  deporte_4horas  perro_agua  \\\n",
       "0                  0                  1  ...               0           0   \n",
       "1                  0                  1  ...               0           0   \n",
       "2                  0                  1  ...               0           0   \n",
       "3                  0                  0  ...               1           0   \n",
       "4                  0                  0  ...               0           0   \n",
       "\n",
       "   perro_atom_humber  perro_bus  perro_chilaquil  perro_ladron  perro_lipigas  \\\n",
       "0                  0          0                0             1              0   \n",
       "1                  0          0                0             1              0   \n",
       "2                  0          0                0             1              0   \n",
       "3                  0          0                0             1              0   \n",
       "4                  0          0                0             0              0   \n",
       "\n",
       "   perro_matapacos  perro_washington  perro_waton  \n",
       "0                0                 0            0  \n",
       "1                0                 0            0  \n",
       "2                0                 0            0  \n",
       "3                0                 0            0  \n",
       "4                0                 0            1  \n",
       "\n",
       "[5 rows x 47 columns]"
      ]
     },
     "execution_count": 4,
     "metadata": {},
     "output_type": "execute_result"
    }
   ],
   "source": [
    "df.head()"
   ]
  },
  {
   "cell_type": "markdown",
   "id": "436c6ef7-4664-4585-af1e-eb93a1d9222a",
   "metadata": {},
   "source": [
    "# Selección de variables predictoras y de respuesta."
   ]
  },
  {
   "cell_type": "code",
   "execution_count": 5,
   "id": "1c36a924-f532-49eb-9199-5f19284422d5",
   "metadata": {},
   "outputs": [],
   "source": [
    "X = df.loc[:, ~df.columns.isin(['politica_izquierda'])]\n",
    "y = df['politica_izquierda']"
   ]
  },
  {
   "cell_type": "markdown",
   "id": "27c7845a-ff31-44ba-a1cb-1f233849c597",
   "metadata": {},
   "source": [
    "# Generación data de entrenamiento y testeo más balanceo"
   ]
  },
  {
   "cell_type": "code",
   "execution_count": 6,
   "id": "3ee2e281-a6b2-4d63-8df0-159256d6f160",
   "metadata": {},
   "outputs": [],
   "source": [
    "from sklearn.model_selection import train_test_split\n",
    "\n",
    "X_train, X_test, y_train, y_test = train_test_split(X, y, test_size=0.20, \n",
    "                                                    random_state = 42)"
   ]
  },
  {
   "cell_type": "code",
   "execution_count": 7,
   "id": "5cf4ec42-b854-4f18-b6af-8cda7435cb1d",
   "metadata": {},
   "outputs": [
    {
     "data": {
      "text/plain": [
       "1    517\n",
       "0    419\n",
       "Name: politica_izquierda, dtype: int64"
      ]
     },
     "execution_count": 7,
     "metadata": {},
     "output_type": "execute_result"
    }
   ],
   "source": [
    "# datos de entrenamiento antes de balance \n",
    "y_train.value_counts()"
   ]
  },
  {
   "cell_type": "code",
   "execution_count": 8,
   "id": "402be3e5-f7b2-4f5e-8a09-00f236fb5336",
   "metadata": {},
   "outputs": [],
   "source": [
    "# balaceo con sobremuestro\n",
    "y_train_Q = y_train[y_train == 1]\n",
    "y_train_NQ = y_train[y_train == 0]\n",
    "y_train_NQ = y_train_NQ.sample(len(y_train_Q), replace = True, \n",
    "                               random_state = 42)\n",
    "y_train = pd.concat([y_train_Q, y_train_NQ], axis=0)\n",
    "X_train = X_train.loc[y_train.index,:]\n",
    "\n",
    "del [y_train_Q, y_train_NQ]"
   ]
  },
  {
   "cell_type": "code",
   "execution_count": 9,
   "id": "7e04f47e-2a25-4fbe-89a2-4a7a6e169554",
   "metadata": {},
   "outputs": [
    {
     "data": {
      "text/plain": [
       "1    517\n",
       "0    517\n",
       "Name: politica_izquierda, dtype: int64"
      ]
     },
     "execution_count": 9,
     "metadata": {},
     "output_type": "execute_result"
    }
   ],
   "source": [
    "# datos de entrenamiento despueés de balanceo\n",
    "y_train.value_counts()"
   ]
  },
  {
   "cell_type": "markdown",
   "id": "ee93e47c-d001-4781-b881-df494f287664",
   "metadata": {},
   "source": [
    "# CV y Random-Search"
   ]
  },
  {
   "cell_type": "code",
   "execution_count": 10,
   "id": "9ac9f9da-69d2-4644-b697-82315b8d1807",
   "metadata": {},
   "outputs": [
    {
     "data": {
      "text/plain": [
       "12"
      ]
     },
     "execution_count": 10,
     "metadata": {},
     "output_type": "execute_result"
    }
   ],
   "source": [
    "import multiprocessing\n",
    "\n",
    "cores = multiprocessing.cpu_count()\n",
    "cores"
   ]
  },
  {
   "cell_type": "code",
   "execution_count": 11,
   "id": "0bb78188-89a1-4daf-8fa0-f529d30812c0",
   "metadata": {},
   "outputs": [
    {
     "name": "stderr",
     "output_type": "stream",
     "text": [
      "[Parallel(n_jobs=1)]: Using backend SequentialBackend with 1 concurrent workers.\n"
     ]
    },
    {
     "name": "stdout",
     "output_type": "stream",
     "text": [
      "[CV] START .....................................................................\n",
      "[CV] END ......................................., score=0.700 total time=   2.3s\n",
      "[CV] START .....................................................................\n"
     ]
    },
    {
     "name": "stderr",
     "output_type": "stream",
     "text": [
      "[Parallel(n_jobs=1)]: Done   1 out of   1 | elapsed:    2.3s remaining:    0.0s\n"
     ]
    },
    {
     "name": "stdout",
     "output_type": "stream",
     "text": [
      "[CV] END ......................................., score=0.667 total time=   1.7s\n",
      "[CV] START .....................................................................\n"
     ]
    },
    {
     "name": "stderr",
     "output_type": "stream",
     "text": [
      "[Parallel(n_jobs=1)]: Done   2 out of   2 | elapsed:    4.0s remaining:    0.0s\n"
     ]
    },
    {
     "name": "stdout",
     "output_type": "stream",
     "text": [
      "[CV] END ......................................., score=0.710 total time=   1.7s\n",
      "[CV] START .....................................................................\n"
     ]
    },
    {
     "name": "stderr",
     "output_type": "stream",
     "text": [
      "[Parallel(n_jobs=1)]: Done   3 out of   3 | elapsed:    5.8s remaining:    0.0s\n"
     ]
    },
    {
     "name": "stdout",
     "output_type": "stream",
     "text": [
      "[CV] END ......................................., score=0.710 total time=   1.6s\n",
      "[CV] START .....................................................................\n"
     ]
    },
    {
     "name": "stderr",
     "output_type": "stream",
     "text": [
      "[Parallel(n_jobs=1)]: Done   4 out of   4 | elapsed:    7.5s remaining:    0.0s\n"
     ]
    },
    {
     "name": "stdout",
     "output_type": "stream",
     "text": [
      "[CV] END ......................................., score=0.636 total time=   1.6s\n"
     ]
    },
    {
     "name": "stderr",
     "output_type": "stream",
     "text": [
      "[Parallel(n_jobs=1)]: Done   5 out of   5 | elapsed:    9.2s remaining:    0.0s\n",
      "[Parallel(n_jobs=1)]: Done   5 out of   5 | elapsed:    9.2s finished\n"
     ]
    },
    {
     "data": {
      "text/plain": [
       "{'fit_time': array([2.36162806, 1.77324677, 1.79408002, 1.65222287, 1.70149899]),\n",
       " 'score_time': array([0.00804448, 0.00370169, 0.0029819 , 0.00394988, 0.0039494 ]),\n",
       " 'test_score': array([0.70048309, 0.66666667, 0.71014493, 0.71014493, 0.63592233])}"
      ]
     },
     "execution_count": 11,
     "metadata": {},
     "output_type": "execute_result"
    }
   ],
   "source": [
    "from catboost import CatBoostClassifier\n",
    "from sklearn.model_selection import cross_validate\n",
    "\n",
    "cbt = CatBoostClassifier(silent = True)\n",
    "\n",
    "cv_cbt = cross_validate(cbt,\n",
    "                        X = X_train,\n",
    "                        y = y_train,\n",
    "                        cv = 5, \n",
    "                        verbose = cores) \n",
    "cv_cbt"
   ]
  },
  {
   "cell_type": "code",
   "execution_count": 12,
   "id": "f401ec3f-593c-4e98-9d56-67a4d4458bf1",
   "metadata": {},
   "outputs": [
    {
     "name": "stdout",
     "output_type": "stream",
     "text": [
      " Results from Grid Search \n",
      "\n",
      " The best estimator across ALL searched params:\n",
      " <catboost.core.CatBoostClassifier object at 0x000001D849508880>\n",
      "\n",
      " The best score across ALL searched params:\n",
      " 0.7484967872051029\n",
      "\n",
      " The best parameters across ALL searched params:\n",
      " {'depth': 10, 'iterations': 100, 'l2_leaf_reg': 1, 'learning_rate': 0.1}\n",
      "77.53648257255554\n"
     ]
    }
   ],
   "source": [
    "from sklearn.model_selection import GridSearchCV\n",
    "import time\n",
    "\n",
    "start = time.time()\n",
    "\n",
    "model_CBR = CatBoostClassifier(silent = True)\n",
    "\n",
    "parameters = {'depth'         : [4, 6, 8, 10],\n",
    "              'learning_rate' : [0.01, 0.03, 0.05, 0.1],\n",
    "              'iterations'    : [30, 50, 100],\n",
    "              'l2_leaf_reg'   : [3, 1, 5, 10]\n",
    "             }\n",
    "\n",
    "grid = GridSearchCV(estimator = model_CBR, \n",
    "                    param_grid = parameters, \n",
    "                    cv = 5, \n",
    "                    n_jobs = -1)\n",
    "grid.fit(X_train, y_train)\n",
    "    \n",
    "print(\" Results from Grid Search \" )\n",
    "print(\"\\n The best estimator across ALL searched params:\\n\", grid.best_estimator_)\n",
    "print(\"\\n The best score across ALL searched params:\\n\", grid.best_score_)\n",
    "print(\"\\n The best parameters across ALL searched params:\\n\", grid.best_params_)\n",
    "end = time.time()\n",
    "print(end - start)\n",
    "\n",
    "# https://www.projectpro.io/recipes/find-optimal-parameters-for-catboost-using-gridsearchcv-for-regression"
   ]
  },
  {
   "cell_type": "code",
   "execution_count": 13,
   "id": "bba98782-8abe-4b74-9ee9-5b75e2d486e9",
   "metadata": {},
   "outputs": [],
   "source": [
    "modelo_cbt_gr = grid.best_estimator_"
   ]
  },
  {
   "cell_type": "markdown",
   "id": "171174cc-d301-495c-afd5-51cd58ae616e",
   "metadata": {},
   "source": [
    "# Resultados modelo"
   ]
  },
  {
   "cell_type": "markdown",
   "id": "0d9a90c9-386a-4490-9424-e18c7ffe6470",
   "metadata": {},
   "source": [
    "## Métricas"
   ]
  },
  {
   "cell_type": "code",
   "execution_count": 14,
   "id": "3b5a8822-3b90-46f9-a6dc-bedddcb39211",
   "metadata": {},
   "outputs": [
    {
     "name": "stdout",
     "output_type": "stream",
     "text": [
      "Resultado en data de entrenamiento:\n",
      "              precision    recall  f1-score   support\n",
      "\n",
      "           0       0.98      0.98      0.98       517\n",
      "           1       0.98      0.98      0.98       517\n",
      "\n",
      "    accuracy                           0.98      1034\n",
      "   macro avg       0.98      0.98      0.98      1034\n",
      "weighted avg       0.98      0.98      0.98      1034\n",
      "\n"
     ]
    }
   ],
   "source": [
    "y_pred_train = modelo_cbt_gr.predict(X_train)\n",
    "y_pred_train = pd.DataFrame(y_pred_train, columns=[\"Y_predicha\"], \n",
    "                            index = y_train.index)\n",
    "\n",
    "from sklearn.metrics import classification_report\n",
    "print(\"Resultado en data de entrenamiento:\")\n",
    "\n",
    "print(classification_report(y_train, y_pred_train))"
   ]
  },
  {
   "cell_type": "code",
   "execution_count": 15,
   "id": "467b3fcb-7db3-44b6-8310-95e05b2132e5",
   "metadata": {},
   "outputs": [
    {
     "name": "stdout",
     "output_type": "stream",
     "text": [
      "Resultado en data de prueba:\n",
      "              precision    recall  f1-score   support\n",
      "\n",
      "           0       0.59      0.44      0.50       117\n",
      "           1       0.55      0.69      0.61       117\n",
      "\n",
      "    accuracy                           0.56       234\n",
      "   macro avg       0.57      0.56      0.56       234\n",
      "weighted avg       0.57      0.56      0.56       234\n",
      "\n"
     ]
    }
   ],
   "source": [
    "y_pred_test = modelo_cbt_gr.predict(X_test)\n",
    "y_pred_test = pd.DataFrame(y_pred_test, columns=[\"Y_predicha\"], \n",
    "                           index = y_test.index)\n",
    "\n",
    "print(\"Resultado en data de prueba:\")\n",
    "\n",
    "print(classification_report(y_test, y_pred_test))"
   ]
  },
  {
   "cell_type": "markdown",
   "id": "a625baa5-ad2d-42d3-9bbb-3b594b2870f0",
   "metadata": {},
   "source": [
    "**Precision**: Cada vez que el modelo determina que un usuario de Reddit es de izquierda, acertará un 55% de las veces.  \n",
    "**Recall**: El modelo es capaz de identificar el 69% de las personas que son efectivamente de izquierda.  \n",
    "**Accuracy**: El modelo acierta un 56% de las veces."
   ]
  },
  {
   "cell_type": "markdown",
   "id": "832598b5-5b82-44be-8fd1-e39faf7fcfc1",
   "metadata": {},
   "source": [
    "## Curva ROC & AUC"
   ]
  },
  {
   "cell_type": "code",
   "execution_count": 16,
   "id": "1260b216-4d88-43a6-9b1c-875fcec5dfef",
   "metadata": {},
   "outputs": [
    {
     "data": {
      "image/png": "[encoded data removed]",
      "text/plain": [
       "<Figure size 432x288 with 1 Axes>"
      ]
     },
     "metadata": {},
     "output_type": "display_data"
    }
   ],
   "source": [
    "from sklearn import metrics\n",
    "import matplotlib.pyplot as plt\n",
    "\n",
    "y_prob_test = modelo_cbt_gr.predict_proba(X_test)[:,1]\n",
    "fpr, tpr, _ = metrics.roc_curve(y_test, y_prob_test)\n",
    "auc = round(metrics.roc_auc_score(y_test, y_prob_test),2)\n",
    "\n",
    "with plt.xkcd():\n",
    "    plt.plot(fpr, tpr, label=\"AUC=\"+str(auc))\n",
    "    plt.ylabel('True Positive Rate')\n",
    "    plt.xlabel('False Positive Rate')\n",
    "    plt.legend(loc=4)\n",
    "    plt.show()"
   ]
  },
  {
   "cell_type": "markdown",
   "id": "4b40670e-c42a-40e0-8a47-66e21434ce85",
   "metadata": {},
   "source": [
    "## PF"
   ]
  },
  {
   "cell_type": "code",
   "execution_count": 17,
   "id": "20458710-d08c-4c2c-9923-0eef10acfd3e",
   "metadata": {},
   "outputs": [
    {
     "data": {
      "image/png": "[encoded data removed]",
      "text/plain": [
       "<Figure size 432x288 with 1 Axes>"
      ]
     },
     "metadata": {},
     "output_type": "display_data"
    }
   ],
   "source": [
    "pr = metrics.precision_recall_curve(y_test, y_prob_test)\n",
    "with plt.xkcd():\n",
    "    plt.plot(pr[1], pr[0])\n",
    "    plt.xlabel(\"Recall\")\n",
    "    plt.ylabel(\"Precision\")"
   ]
  },
  {
   "cell_type": "markdown",
   "id": "81ed123c-0d50-4a95-8749-54346b80e8d5",
   "metadata": {},
   "source": [
    "## Variance Importance Factor"
   ]
  },
  {
   "cell_type": "code",
   "execution_count": 18,
   "id": "3e7113a2-f32f-4d7d-b2c0-a3c9f9e81ca5",
   "metadata": {},
   "outputs": [
    {
     "data": {
      "image/png": "[encoded data removed]",
      "text/plain": [
       "<Figure size 432x288 with 1 Axes>"
      ]
     },
     "metadata": {},
     "output_type": "display_data"
    }
   ],
   "source": [
    "# Variance importance List\n",
    "vil = pd.DataFrame(list(zip(X_test.columns,modelo_cbt_gr.feature_importances_)),\n",
    "                   columns=['feature','Feature Importances']\n",
    "                  ).sort_values(by='Feature Importances', ascending=False)\n",
    "vil.head()\n",
    "\n",
    "with plt.xkcd():\n",
    "    ax = plt.barh(data = vil.sort_values(by='Feature Importances').tail(10), \n",
    "             y='feature', \n",
    "             width = 'Feature Importances'\n",
    "            )\n",
    "    plt.show()"
   ]
  }
 ],
 "metadata": {
  "kernelspec": {
   "display_name": "Python 3 (ipykernel)",
   "language": "python",
   "name": "python3"
  },
  "language_info": {
   "codemirror_mode": {
    "name": "ipython",
    "version": 3
   },
   "file_extension": ".py",
   "mimetype": "text/x-python",
   "name": "python",
   "nbconvert_exporter": "python",
   "pygments_lexer": "ipython3",
   "version": "3.8.13"
  }
 },
 "nbformat": 4,
 "nbformat_minor": 5
}
